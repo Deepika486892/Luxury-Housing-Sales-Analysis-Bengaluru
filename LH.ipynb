{
 "cells": [
  {
   "cell_type": "code",
   "execution_count": 1,
   "id": "30a8aac2",
   "metadata": {},
   "outputs": [],
   "source": [
    "import pandas as pd"
   ]
  },
  {
   "cell_type": "code",
   "execution_count": 2,
   "id": "cfb17d38",
   "metadata": {},
   "outputs": [
    {
     "name": "stdout",
     "output_type": "stream",
     "text": [
      "       Property_ID       Micro_Market Project_Name Developer_Name  \\\n",
      "0       PROP000001      Sarjapur Road    Project_0            RMZ   \n",
      "1       PROP000002        Indiranagar    Project_1    Puravankara   \n",
      "2       PROP000003  Bannerghatta Road    Project_2   Tata Housing   \n",
      "3       PROP000004       bellary road    Project_3        Embassy   \n",
      "4       PROP000005        Koramangala    Project_4        SNN Raj   \n",
      "...            ...                ...          ...            ...   \n",
      "100995  PROP004730       BELLARY ROAD  Project_229        Embassy   \n",
      "100996  PROP059810       Bellary Road  Project_309        Brigade   \n",
      "100997  PROP065099        HENNUR ROAD   Project_98            RMZ   \n",
      "100998  PROP093022        rajajinagar   Project_21        Embassy   \n",
      "100999  PROP023826         whitefield  Project_325     L&T Realty   \n",
      "\n",
      "        Unit_Size_Sqft Configuration Ticket_Price_Cr Transaction_Type  \\\n",
      "0               4025.0          4bhk     12.75084604          Primary   \n",
      "1               5760.0          3Bhk     16.29215187          Primary   \n",
      "2               7707.0          4bhk     10.51772441          Primary   \n",
      "3               6192.0          3BHK     9.396367494          Primary   \n",
      "4               7147.0          4Bhk     15.34539244        Secondary   \n",
      "...                ...           ...             ...              ...   \n",
      "100995          8546.0         5Bhk+     11.33081004        Secondary   \n",
      "100996          3408.0          3bhk     10.82937316          Primary   \n",
      "100997          4691.0          4BHK     11.18330315          Primary   \n",
      "100998          7435.0          3BHK     10.91415638        Secondary   \n",
      "100999          3218.0          4bhk       ₹13.27 Cr          Primary   \n",
      "\n",
      "             Buyer_Type Purchase_Quarter  Connectivity_Score  Amenity_Score  \\\n",
      "0                   NRI         31-03-25            7.990091       5.462863   \n",
      "1                 Other         30-06-24            4.839024            NaN   \n",
      "2                   HNI         31-12-23            8.131315       8.669227   \n",
      "3                   HNI         31-03-24            7.501657       5.720246   \n",
      "4                   HNI         31-12-24            4.525216       8.609649   \n",
      "...                 ...              ...                 ...            ...   \n",
      "100995              CXO         31-12-24            8.552797       6.221131   \n",
      "100996              CXO         30-09-24            6.879269       9.783611   \n",
      "100997              NRI         31-12-23            6.753812       8.383013   \n",
      "100998            Other         30-06-24            4.437787       5.756247   \n",
      "100999  Startup Founder         31-12-23            7.760416       9.989290   \n",
      "\n",
      "         Possession_Status Sales_Channel NRI_Buyer  Locality_Infra_Score  \\\n",
      "0                   Launch        Broker       yes              9.212491   \n",
      "1       Under construction      NRI Desk        no              7.723898   \n",
      "2            Ready to move        Direct       yes              6.985493   \n",
      "3            Ready to move        Online       yes              6.100929   \n",
      "4       Under construction        Broker        no              5.312510   \n",
      "...                    ...           ...       ...                   ...   \n",
      "100995  Under construction      NRI Desk        no              7.511827   \n",
      "100996       Ready to move        Direct        no              9.851849   \n",
      "100997  Under construction        Broker        no              9.101604   \n",
      "100998  Under construction        Broker       yes              8.588551   \n",
      "100999  Under construction        Direct       yes              9.917647   \n",
      "\n",
      "        Avg_Traffic_Time_Min              Buyer_Comments  \n",
      "0                         18        Loved the amenities!  \n",
      "1                        106                         NaN  \n",
      "2                        113   Agent was not responsive.  \n",
      "3                        106         Excellent location!  \n",
      "4                         18     Too far from my office.  \n",
      "...                      ...                         ...  \n",
      "100995                    22  Will buy after possession.  \n",
      "100996                    26   Agent was not responsive.  \n",
      "100997                    44        Loved the amenities!  \n",
      "100998                    66         Excellent location!  \n",
      "100999                    58        Loved the amenities!  \n",
      "\n",
      "[101000 rows x 18 columns]\n"
     ]
    }
   ],
   "source": [
    "luxury_house_data = pd.read_csv(\"C:/Users/user/Desktop/DS SETS/LH.Proj/Luxury_Housing_Bangalore.csv\")\n",
    "print(luxury_house_data)"
   ]
  },
  {
   "cell_type": "code",
   "execution_count": 3,
   "id": "22d61acf",
   "metadata": {},
   "outputs": [
    {
     "data": {
      "text/plain": [
       "Property_ID              object\n",
       "Micro_Market             object\n",
       "Project_Name             object\n",
       "Developer_Name           object\n",
       "Unit_Size_Sqft          float64\n",
       "Configuration            object\n",
       "Ticket_Price_Cr          object\n",
       "Transaction_Type         object\n",
       "Buyer_Type               object\n",
       "Purchase_Quarter         object\n",
       "Connectivity_Score      float64\n",
       "Amenity_Score           float64\n",
       "Possession_Status        object\n",
       "Sales_Channel            object\n",
       "NRI_Buyer                object\n",
       "Locality_Infra_Score    float64\n",
       "Avg_Traffic_Time_Min      int64\n",
       "Buyer_Comments           object\n",
       "dtype: object"
      ]
     },
     "execution_count": 3,
     "metadata": {},
     "output_type": "execute_result"
    }
   ],
   "source": [
    "list(luxury_house_data.columns)\n",
    "luxury_house_data.dtypes"
   ]
  },
  {
   "cell_type": "code",
   "execution_count": 4,
   "id": "758cc081",
   "metadata": {},
   "outputs": [
    {
     "name": "stdout",
     "output_type": "stream",
     "text": [
      "Property_ID              0.000000\n",
      "Micro_Market             0.000000\n",
      "Project_Name             0.000000\n",
      "Developer_Name           0.000000\n",
      "Unit_Size_Sqft           9.946535\n",
      "Configuration            0.000000\n",
      "Ticket_Price_Cr          9.919802\n",
      "Transaction_Type         0.000000\n",
      "Buyer_Type               0.000000\n",
      "Purchase_Quarter         0.000000\n",
      "Connectivity_Score       0.000000\n",
      "Amenity_Score            9.990099\n",
      "Possession_Status        0.000000\n",
      "Sales_Channel            0.000000\n",
      "NRI_Buyer                0.000000\n",
      "Locality_Infra_Score     0.000000\n",
      "Avg_Traffic_Time_Min     0.000000\n",
      "Buyer_Comments          18.105941\n",
      "dtype: float64\n"
     ]
    }
   ],
   "source": [
    "print(luxury_house_data.isnull().sum()*100/len(luxury_house_data))"
   ]
  },
  {
   "cell_type": "code",
   "execution_count": 5,
   "id": "4f33d37d",
   "metadata": {},
   "outputs": [
    {
     "name": "stdout",
     "output_type": "stream",
     "text": [
      "0         4025.0\n",
      "1         5760.0\n",
      "2         7707.0\n",
      "3         6192.0\n",
      "4         7147.0\n",
      "           ...  \n",
      "100995    8546.0\n",
      "100996    3408.0\n",
      "100997    4691.0\n",
      "100998    7435.0\n",
      "100999    3218.0\n",
      "Name: Unit_Size_Sqft, Length: 101000, dtype: float64\n"
     ]
    },
    {
     "name": "stderr",
     "output_type": "stream",
     "text": [
      "C:\\Users\\user\\AppData\\Local\\Temp\\ipykernel_11844\\2929397787.py:1: FutureWarning: A value is trying to be set on a copy of a DataFrame or Series through chained assignment using an inplace method.\n",
      "The behavior will change in pandas 3.0. This inplace method will never work because the intermediate object on which we are setting values always behaves as a copy.\n",
      "\n",
      "For example, when doing 'df[col].method(value, inplace=True)', try using 'df.method({col: value}, inplace=True)' or df[col] = df[col].method(value) instead, to perform the operation inplace on the original object.\n",
      "\n",
      "\n",
      "  luxury_house_data[\"Unit_Size_Sqft\"].fillna(luxury_house_data[\"Unit_Size_Sqft\"].median(), inplace=True)\n"
     ]
    }
   ],
   "source": [
    "luxury_house_data[\"Unit_Size_Sqft\"].fillna(luxury_house_data[\"Unit_Size_Sqft\"].median(), inplace=True)\n",
    "print(luxury_house_data[\"Unit_Size_Sqft\"])"
   ]
  },
  {
   "cell_type": "code",
   "execution_count": 6,
   "id": "ca243779",
   "metadata": {},
   "outputs": [
    {
     "name": "stderr",
     "output_type": "stream",
     "text": [
      "C:\\Users\\user\\AppData\\Local\\Temp\\ipykernel_11844\\3917201812.py:1: FutureWarning: A value is trying to be set on a copy of a DataFrame or Series through chained assignment using an inplace method.\n",
      "The behavior will change in pandas 3.0. This inplace method will never work because the intermediate object on which we are setting values always behaves as a copy.\n",
      "\n",
      "For example, when doing 'df[col].method(value, inplace=True)', try using 'df.method({col: value}, inplace=True)' or df[col] = df[col].method(value) instead, to perform the operation inplace on the original object.\n",
      "\n",
      "\n",
      "  luxury_house_data[\"Amenity_Score\"].fillna(luxury_house_data[\"Amenity_Score\"].median(), inplace=True)\n"
     ]
    }
   ],
   "source": [
    "luxury_house_data[\"Amenity_Score\"].fillna(luxury_house_data[\"Amenity_Score\"].median(), inplace=True)"
   ]
  },
  {
   "cell_type": "code",
   "execution_count": 7,
   "id": "68e04718",
   "metadata": {},
   "outputs": [
    {
     "name": "stdout",
     "output_type": "stream",
     "text": [
      "count    90981.000000\n",
      "mean        12.718336\n",
      "std          7.665803\n",
      "min         -1.420000\n",
      "25%         10.010392\n",
      "50%         12.037647\n",
      "75%         14.094726\n",
      "max        100.000000\n",
      "Name: Ticket_Price_Cr, dtype: float64\n",
      "       Property_ID       Micro_Market Project_Name Developer_Name  \\\n",
      "0       PROP000001      Sarjapur Road    Project_0            RMZ   \n",
      "1       PROP000002        Indiranagar    Project_1    Puravankara   \n",
      "2       PROP000003  Bannerghatta Road    Project_2   Tata Housing   \n",
      "3       PROP000004       bellary road    Project_3        Embassy   \n",
      "4       PROP000005        Koramangala    Project_4        SNN Raj   \n",
      "...            ...                ...          ...            ...   \n",
      "100995  PROP004730       BELLARY ROAD  Project_229        Embassy   \n",
      "100996  PROP059810       Bellary Road  Project_309        Brigade   \n",
      "100997  PROP065099        HENNUR ROAD   Project_98            RMZ   \n",
      "100998  PROP093022        rajajinagar   Project_21        Embassy   \n",
      "100999  PROP023826         whitefield  Project_325     L&T Realty   \n",
      "\n",
      "        Unit_Size_Sqft Configuration  Ticket_Price_Cr Transaction_Type  \\\n",
      "0               4025.0          4bhk        12.750846          Primary   \n",
      "1               5760.0          3Bhk        16.292152          Primary   \n",
      "2               7707.0          4bhk        10.517724          Primary   \n",
      "3               6192.0          3BHK         9.396367          Primary   \n",
      "4               7147.0          4Bhk        15.345392        Secondary   \n",
      "...                ...           ...              ...              ...   \n",
      "100995          8546.0         5Bhk+        11.330810        Secondary   \n",
      "100996          3408.0          3bhk        10.829373          Primary   \n",
      "100997          4691.0          4BHK        11.183303          Primary   \n",
      "100998          7435.0          3BHK        10.914156        Secondary   \n",
      "100999          3218.0          4bhk        13.270000          Primary   \n",
      "\n",
      "             Buyer_Type Purchase_Quarter  Connectivity_Score  Amenity_Score  \\\n",
      "0                   NRI         31-03-25            7.990091       5.462863   \n",
      "1                 Other         30-06-24            4.839024       7.499123   \n",
      "2                   HNI         31-12-23            8.131315       8.669227   \n",
      "3                   HNI         31-03-24            7.501657       5.720246   \n",
      "4                   HNI         31-12-24            4.525216       8.609649   \n",
      "...                 ...              ...                 ...            ...   \n",
      "100995              CXO         31-12-24            8.552797       6.221131   \n",
      "100996              CXO         30-09-24            6.879269       9.783611   \n",
      "100997              NRI         31-12-23            6.753812       8.383013   \n",
      "100998            Other         30-06-24            4.437787       5.756247   \n",
      "100999  Startup Founder         31-12-23            7.760416       9.989290   \n",
      "\n",
      "         Possession_Status Sales_Channel NRI_Buyer  Locality_Infra_Score  \\\n",
      "0                   Launch        Broker       yes              9.212491   \n",
      "1       Under construction      NRI Desk        no              7.723898   \n",
      "2            Ready to move        Direct       yes              6.985493   \n",
      "3            Ready to move        Online       yes              6.100929   \n",
      "4       Under construction        Broker        no              5.312510   \n",
      "...                    ...           ...       ...                   ...   \n",
      "100995  Under construction      NRI Desk        no              7.511827   \n",
      "100996       Ready to move        Direct        no              9.851849   \n",
      "100997  Under construction        Broker        no              9.101604   \n",
      "100998  Under construction        Broker       yes              8.588551   \n",
      "100999  Under construction        Direct       yes              9.917647   \n",
      "\n",
      "        Avg_Traffic_Time_Min              Buyer_Comments  \n",
      "0                         18        Loved the amenities!  \n",
      "1                        106                         NaN  \n",
      "2                        113   Agent was not responsive.  \n",
      "3                        106         Excellent location!  \n",
      "4                         18     Too far from my office.  \n",
      "...                      ...                         ...  \n",
      "100995                    22  Will buy after possession.  \n",
      "100996                    26   Agent was not responsive.  \n",
      "100997                    44        Loved the amenities!  \n",
      "100998                    66         Excellent location!  \n",
      "100999                    58        Loved the amenities!  \n",
      "\n",
      "[89971 rows x 18 columns]\n",
      "Property_ID              object\n",
      "Micro_Market             object\n",
      "Project_Name             object\n",
      "Developer_Name           object\n",
      "Unit_Size_Sqft          float64\n",
      "Configuration            object\n",
      "Ticket_Price_Cr         float64\n",
      "Transaction_Type         object\n",
      "Buyer_Type               object\n",
      "Purchase_Quarter         object\n",
      "Connectivity_Score      float64\n",
      "Amenity_Score           float64\n",
      "Possession_Status        object\n",
      "Sales_Channel            object\n",
      "NRI_Buyer                object\n",
      "Locality_Infra_Score    float64\n",
      "Avg_Traffic_Time_Min      int64\n",
      "Buyer_Comments           object\n",
      "dtype: object\n"
     ]
    }
   ],
   "source": [
    "\n",
    "\n",
    "# Step 1: Clean Ticket_Price_Cr column\n",
    "luxury_house_data[\"Ticket_Price_Cr\"] = (\n",
    "    luxury_house_data[\"Ticket_Price_Cr\"]\n",
    "    .astype(str)                                   # Convert to string\n",
    "    .str.replace(\"â‚¹\", \"\", regex=False)           # Remove corrupted symbol\n",
    "    .str.replace(\"₹\", \"\", regex=False)             # Remove ₹\n",
    "    .str.replace(\"Cr\", \"\", regex=False)            # Remove 'Cr'\n",
    "    .str.replace(\",\", \"\", regex=False)             # Remove commas\n",
    "    .str.strip()                                   # Remove extra spaces\n",
    ")\n",
    "\n",
    "# Step 2: Convert to float (best for ticket prices)\n",
    "luxury_house_data[\"Ticket_Price_Cr\"] = pd.to_numeric(\n",
    "    luxury_house_data[\"Ticket_Price_Cr\"], errors=\"coerce\"\n",
    ").astype(float)\n",
    "\n",
    "# Step 3: Check summary\n",
    "print(luxury_house_data[\"Ticket_Price_Cr\"].describe())\n",
    "\n",
    "# Step 4: (Optional) Remove unrealistic values (> 50 Cr for example)\n",
    "luxury_house_data = luxury_house_data[luxury_house_data[\"Ticket_Price_Cr\"] < 50]\n",
    "\n",
    "# Step 5: Final check\n",
    "print(luxury_house_data)\n",
    "print(luxury_house_data.dtypes)\n",
    "\n"
   ]
  },
  {
   "cell_type": "code",
   "execution_count": 8,
   "id": "f2f2458a",
   "metadata": {},
   "outputs": [
    {
     "name": "stdout",
     "output_type": "stream",
     "text": [
      "['Sarjapur Road' 'Indiranagar' 'Bannerghatta Road' 'Bellary Road'\n",
      " 'Koramangala' 'Yelahanka' 'Whitefield' 'Jp Nagar' 'Rajajinagar'\n",
      " 'Jayanagar' 'Domlur' 'Mg Road' 'Hennur Road' 'Electronic City' 'Hebbal'\n",
      " 'Kanakapura Road']\n"
     ]
    }
   ],
   "source": [
    "luxury_house_data[\"Micro_Market\"] = luxury_house_data[\"Micro_Market\"].str.title()\n",
    "print(luxury_house_data[\"Micro_Market\"].unique())"
   ]
  },
  {
   "cell_type": "code",
   "execution_count": null,
   "id": "3137dee0",
   "metadata": {},
   "outputs": [
    {
     "name": "stderr",
     "output_type": "stream",
     "text": [
      "C:\\Users\\user\\AppData\\Local\\Temp\\ipykernel_11844\\337420488.py:1: FutureWarning: A value is trying to be set on a copy of a DataFrame or Series through chained assignment using an inplace method.\n",
      "The behavior will change in pandas 3.0. This inplace method will never work because the intermediate object on which we are setting values always behaves as a copy.\n",
      "\n",
      "For example, when doing 'df[col].method(value, inplace=True)', try using 'df.method({col: value}, inplace=True)' or df[col] = df[col].method(value) instead, to perform the operation inplace on the original object.\n",
      "\n",
      "\n",
      "  luxury_house_data[\"Buyer_Comments\"].fillna(luxury_house_data[\"Buyer_Comments\"].mode(), inplace=True)\n"
     ]
    }
   ],
   "source": [
    "luxury_house_data[\"Buyer_Comments\"].fillna(luxury_house_data[\"Buyer_Comments\"].mode(), inplace=True)\n"
   ]
  },
  {
   "cell_type": "code",
   "execution_count": null,
   "id": "0365b778",
   "metadata": {},
   "outputs": [],
   "source": [
    "luxury_house_data"
   ]
  },
  {
   "cell_type": "code",
   "execution_count": null,
   "id": "19c32cdb",
   "metadata": {},
   "outputs": [],
   "source": [
    "print(luxury_house_data.isnull().sum()*100/len(luxury_house_data))"
   ]
  },
  {
   "cell_type": "code",
   "execution_count": null,
   "id": "d8a7e520",
   "metadata": {},
   "outputs": [],
   "source": [
    "print(luxury_house_data.isnull().sum())"
   ]
  },
  {
   "cell_type": "code",
   "execution_count": null,
   "id": "5b71d9eb",
   "metadata": {},
   "outputs": [],
   "source": [
    "data=luxury_house_data\n",
    "df=pd.DataFrame(luxury_house_data)\n",
    "print(df)"
   ]
  },
  {
   "cell_type": "code",
   "execution_count": null,
   "id": "709bb8dc",
   "metadata": {},
   "outputs": [],
   "source": [
    "list(luxury_house_data.columns)\n",
    "luxury_house_data.dtypes"
   ]
  },
  {
   "cell_type": "code",
   "execution_count": null,
   "id": "dd6d9319",
   "metadata": {},
   "outputs": [],
   "source": [
    "import pymysql\n",
    "import pandas as pd\n",
    "\n",
    "# MySQL connection configuration\n",
    "config = {\n",
    "    'host': 'localhost',\n",
    "    'user': 'root',\n",
    "    'password': 'root'\n",
    "}\n",
    "\n",
    "try:\n",
    "    conn = pymysql.connect(**config)\n",
    "    cursor = conn.cursor()\n",
    "\n",
    "    cursor.execute(\"CREATE DATABASE IF NOT EXISTS LH_project\")\n",
    "    print(\"Database 'LH_project' exists or created.\")\n",
    "\n",
    "    cursor.execute(\"USE LH_project\")\n",
    "    print(\"Switched to database 'LH_project'\")\n",
    "\n",
    "    create_table_query = \"\"\"\n",
    "        CREATE TABLE IF NOT EXISTS luxury_house_data (\n",
    "            Property_ID VARCHAR(255),           \n",
    "            Micro_Market VARCHAR(255),           \n",
    "            Project_Name VARCHAR(255),         \n",
    "            Developer_Name VARCHAR(255),        \n",
    "            Unit_Size_Sqft INT,\n",
    "            Configuration VARCHAR(255),         \n",
    "            Ticket_Price_Cr FLOAT, \n",
    "            Transaction_Type VARCHAR(255),     \n",
    "            Buyer_Type VARCHAR(255),     \n",
    "            Purchase_Quarter DATE,   \n",
    "            Connectivity_Score INT,   \n",
    "            Amenity_Score INT,\n",
    "            Possession_Status VARCHAR(255),      \n",
    "            Sales_Channel VARCHAR(255),       \n",
    "            NRI_Buyer VARCHAR(255),       \n",
    "            Locality_Infra_Score INT,\n",
    "            Avg_Traffic_Time_Min INT,\n",
    "            Buyer_Comments VARCHAR(255)\n",
    "        )\n",
    "    \"\"\"\n",
    "     \n",
    "    cursor.execute(create_table_query)\n",
    "    conn.commit()\n",
    "    print(\"Table 'Luxury_house_data' created or already exists.\")\n",
    "\n",
    "except pymysql.err.OperationalError as err:\n",
    "    print(\"Connection or SQL error:\", err)\n",
    "\n",
    "insert_query = \"\"\"\n",
    "    INSERT INTO luxury_house_data (\n",
    "        Property_ID, Micro_Market, Project_Name, Developer_Name,\n",
    "        Unit_Size_Sqft, Configuration, Ticket_Price_Cr, Transaction_Type,\n",
    "        Buyer_Type, Purchase_Quarter, Connectivity_Score, Amenity_Score,\n",
    "        Possession_Status, Sales_Channel, NRI_Buyer, Locality_Infra_Score,\n",
    "        Avg_Traffic_Time_Min, Buyer_Comments\n",
    "    ) VALUES (%s, %s, %s, %s, %s, %s, %s, %s, %s, %s, %s, %s, %s, %s, %s, %s, %s, %s)\n",
    "\"\"\"\n",
    "\n",
    "# your DataFrame\n",
    "df = pd.DataFrame(luxury_house_data)\n",
    "print(df)\n",
    "\n",
    "for i, row in df.iterrows():\n",
    "    cursor.execute(insert_query, tuple(row))\n",
    "\n",
    "conn.commit()\n",
    "print(\"Data inserted into Luxury_house_data\")\n"
   ]
  }
 ],
 "metadata": {
  "kernelspec": {
   "display_name": "Python 3",
   "language": "python",
   "name": "python3"
  },
  "language_info": {
   "codemirror_mode": {
    "name": "ipython",
    "version": 3
   },
   "file_extension": ".py",
   "mimetype": "text/x-python",
   "name": "python",
   "nbconvert_exporter": "python",
   "pygments_lexer": "ipython3",
   "version": "3.12.3"
  }
 },
 "nbformat": 4,
 "nbformat_minor": 5
}
